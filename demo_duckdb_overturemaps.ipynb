{
 "cells": [
  {
   "cell_type": "code",
   "execution_count": 1,
   "id": "baba2d1e",
   "metadata": {},
   "outputs": [
    {
     "data": {
      "text/plain": [
       "True"
      ]
     },
     "execution_count": 1,
     "metadata": {},
     "output_type": "execute_result"
    }
   ],
   "source": [
    "#importer\n",
    "\n",
    "# aktiver venv\n",
    "#.\\.venv\\Scripts\\activate\n",
    "\n",
    "# Installer pakker\n",
    "# pip install -r ./postgis_til_parquet/requirements.txt\n",
    "\n",
    "import duckdb                   # SQL-database som kvakker raskere enn andre databaser\n",
    "import requests, json           # Sender brev til internett og får svar i pene bokser\n",
    "import numpy as np              # Matematikk på steroider - for når du vil regne fort\n",
    "import keplergl                 # Gjør kart så fancy at selv Galileo ville blitt imponert\n",
    "import geopandas as gpd         # Som pandas (det populære dataanalysebiblioteket for tabelldata, ikke bambusbærene), men med retningssans og kart\n",
    "from dotenv import load_dotenv  # Hemmelighetsbevarer for passord og API-nøkler\n",
    "import os                       # For når du må snakke med datamaskinen på dens eget språk (for å hente hemmelighetene våre fra .env)\n",
    "\n",
    "# Last inn hemmeligheter\n",
    "load_dotenv()"
   ]
  },
  {
   "cell_type": "code",
   "execution_count": 2,
   "id": "1659d634",
   "metadata": {},
   "outputs": [
    {
     "data": {
      "text/plain": [
       "<duckdb.duckdb.DuckDBPyConnection at 0x1b448f27fb0>"
      ]
     },
     "execution_count": 2,
     "metadata": {},
     "output_type": "execute_result"
    }
   ],
   "source": [
    "# Kom i gang med DuckDB i minnet\n",
    "\n",
    "# Start kvakebassen\n",
    "con = duckdb.connect(database=':memory::') # :memory:: betyr at vi bruker minnet, ikke en fil på disken. Det er raskere og mer praktisk for midlertidige data.\n",
    "\n",
    "\n",
    "# Last inn noen tilleggsverktøy i DuckDB\n",
    "con.execute(\"INSTALL spatial;\")  # Gir DuckDB retningssans så den kan finne frem i geografigrøten\n",
    "con.execute(\"LOAD spatial;\")     \n",
    "\n",
    "con.execute(\"INSTALL httpfs;\")   # Lærer anden å surfe på internett for å hente data fra skyen\n",
    "con.execute(\"LOAD httpfs;\")      \n",
    "\n",
    "con.execute(\"INSTALL postgres;\") # Ansetter en tolk som snakker flytende PostgreSQL\n",
    "con.execute(\"LOAD postgres;\")    "
   ]
  },
  {
   "cell_type": "code",
   "execution_count": 3,
   "id": "a58a94ec",
   "metadata": {},
   "outputs": [
    {
     "name": "stdout",
     "output_type": "stream",
     "text": [
      "Bounding box: 6.14970490204483, 57.759005282950625 to 9.668876552798709, 59.67268697626103\n"
     ]
    }
   ],
   "source": [
    "# Agder er fylke med nr 42, for hele listen: \"https://api.test.kartverket.no/kommuneinfo/v1/fylker\"\n",
    "# 42 - også kjent som \"svaret på livet, universet og alt mulig\" - passende for et flott fylke!\n",
    "agder_req = requests.get(\"https://api.test.kartverket.no/kommuneinfo/v1/fylker/42/omrade\")\n",
    "agder_json = agder_req.json()  # Pakker ut JSON\n",
    "agder_geojson_str = json.dumps(agder_json['omrade'])  # Konverterer til streng - fordi datamaskiner er kresne på hva dem spiser\n",
    "\n",
    "# Alternativ for Kristiansand kommune\n",
    "\n",
    "# Kristiansand er kommune med nr 4204, for hele listen: \"https://api.test.kartverket.no/kommuneinfo/v1/kommuner\"\n",
    "# Koden under er på ferie - kommentert ut for å nyte solen\n",
    "#krs_req = requests.get(\"https://api.test.kartverket.no/kommuneinfo/v1/kommuner/4204/omrade\")\n",
    "#krs_json = krs_req.json()\n",
    "#krs_geojson_str = json.dumps(krs_json['omrade'])\n",
    "\n",
    "\n",
    "# BBOX koordinater - fordi vi liker å tenke innenfor boksen\n",
    "min_x = con.execute(\"SELECT ST_XMin(ST_GeomFromGeoJSON(?)) as min_x\", [agder_geojson_str]).fetchone()[0]  # Finner vestligste punkt - der sola går til ro\n",
    "min_y = con.execute(\"SELECT ST_YMin(ST_GeomFromGeoJSON(?)) as min_y\", [agder_geojson_str]).fetchone()[0]  # Finner sørligste punkt - nesten Danmark!\n",
    "max_x = con.execute(\"SELECT ST_XMax(ST_GeomFromGeoJSON(?)) as max_x\", [agder_geojson_str]).fetchone()[0]  # Finner østligste punkt - morgenfrisk soloppgang\n",
    "max_y = con.execute(\"SELECT ST_YMax(ST_GeomFromGeoJSON(?)) as max_y\", [agder_geojson_str]).fetchone()[0]  # Finner nordligste punkt - der trollene bor\n",
    "\n",
    "# Bounding box: 6.14970490204483, 57.759005282950625 to 9.668876552798709, 59.67268697626103\n",
    "\n",
    "print(f\"Bounding box: {min_x}, {min_y} to {max_x}, {max_y}\")  # Skriver ut Agders hjørner\n"
   ]
  },
  {
   "cell_type": "markdown",
   "id": "2c6b386a",
   "metadata": {},
   "source": [
    "# Finn det største bygget i Agder\n",
    " Vi bruker Overture Maps' detaljerte bygningsdata og Kartverkets polygon for Agder for å avsløre noen store bygg i fylket.\n",
    "\n",
    "### Spørmål å gruble på 🤔\n",
    "* Hva tror du er det største bygget i Agder målt i areal?\n",
    "* Hvor stort tror du det største boligbygget (residential) er i kvadratmeter?"
   ]
  },
  {
   "cell_type": "code",
   "execution_count": 4,
   "id": "9423c2c8",
   "metadata": {},
   "outputs": [],
   "source": [
    "\n",
    "# Her ber vi databasen om å finne alle byggene i Agder og sortere dem etter størrelse.\n",
    "# Over 2 milliarder byggninger\n",
    "\n",
    "query_hent_bygg = f\"\"\"\n",
    "COPY(\n",
    "SELECT\n",
    "  names.primary as navn,\n",
    "  ROUND(ST_Area(ST_Transform(geometry, 'EPSG:4326', 'EPSG:25832')), 2) as area_m2,\n",
    "  class,\n",
    "  geometry\n",
    "FROM read_parquet('s3://overturemaps-us-west-2/release/2025-04-23.0/theme=buildings/type=building/*',\n",
    "hive_partitioning=true)\n",
    "WHERE bbox.xmin BETWEEN {min_x} AND {max_x}\n",
    "  AND bbox.ymin BETWEEN {min_y} AND {max_y}\n",
    "ORDER BY area_m2 DESC\n",
    ") TO 'agders_50_storste_bygg.parquet' (FORMAT parquet, COMPRESSION zstd, ROW_GROUP_SIZE 10_000);\n",
    "\"\"\"\n",
    "\n",
    "#con.execute(query_hent_bygg)"
   ]
  },
  {
   "cell_type": "code",
   "execution_count": 5,
   "id": "974df478",
   "metadata": {},
   "outputs": [
    {
     "name": "stdout",
     "output_type": "stream",
     "text": [
      "┌──────────────────┬───────────┐\n",
      "│       navn       │  area_m2  │\n",
      "│     varchar      │  double   │\n",
      "├──────────────────┼───────────┤\n",
      "│ Sørlandssenteret │ 207172.25 │\n",
      "│ Nordan           │ 125469.25 │\n",
      "│ Herkules         │  93700.21 │\n",
      "│ Chassix Norway   │  81781.28 │\n",
      "│ Eramet           │  80619.32 │\n",
      "└──────────────────┴───────────┘\n",
      "\n",
      "┌─────────┬─────────┐\n",
      "│  navn   │ area_m2 │\n",
      "│ varchar │ double  │\n",
      "├─────────┼─────────┤\n",
      "│ NULL    │ 10474.3 │\n",
      "│ NULL    │ 5303.03 │\n",
      "│ NULL    │ 4830.56 │\n",
      "│ NULL    │ 4814.44 │\n",
      "│ NULL    │ 4064.66 │\n",
      "└─────────┴─────────┘\n",
      "\n",
      "User Guide: https://docs.kepler.gl/docs/keplergl-jupyter\n"
     ]
    },
    {
     "data": {
      "application/vnd.jupyter.widget-view+json": {
       "model_id": "e81f43a84e334f7da867c2fba123b0ec",
       "version_major": 2,
       "version_minor": 0
      },
      "text/plain": [
       "KeplerGl(data={'Top 5 største bygg i Agder': {'index': [0, 1, 2, 3, 4], 'columns': ['navn', 'area_m2', 'class'…"
      ]
     },
     "execution_count": 5,
     "metadata": {},
     "output_type": "execute_result"
    }
   ],
   "source": [
    "# Litt visualisering\n",
    "\n",
    "# Vis resultat fra parquet filen: top 5 bygg med størst areal\n",
    "con.sql(\"SELECT navn, area_m2 FROM read_parquet('agders_50_storste_bygg.parquet') WHERE navn IS NOT NULL LIMIT 5\").show()\n",
    "\n",
    "# Vis resultat fra parquet filen: top 5 bygg med størst areal og klasse = residential\n",
    "con.sql(\"SELECT * EXCLUDE (geometry, class) FROM read_parquet('agders_50_storste_bygg.parquet') WHERE class = 'residential' LIMIT 5\").show()\n",
    "\n",
    "\n",
    "# Tegn kepplergl kart\n",
    "# visualisere dataene på et kart\n",
    "# Lager et interaktivt kart som viser plasseringen av de største byggene\n",
    "\n",
    "# Henter de 5 største byggene med navn for kartvisning\n",
    "top_5_bygg_df = con.sql(\"\"\"\n",
    "    SELECT * EXCLUDE (geometry),\n",
    "    ST_AsText(geometry) as geometry_wkt\n",
    "    FROM read_parquet('agders_50_storste_bygg.parquet') \n",
    "    WHERE navn IS NOT NULL \n",
    "    ORDER BY area_m2 DESC\n",
    "    LIMIT 5\n",
    "\"\"\").df()\n",
    "\n",
    "# Konverterer dataene til geospatial format for kartvisning\n",
    "top_5_bygg_gdf = gpd.GeoDataFrame(top_5_bygg_df, geometry=gpd.GeoSeries.from_wkt(top_5_bygg_df['geometry_wkt'].tolist()),crs=\"EPSG:4326\")\n",
    "\n",
    "# Trenger ikke WKT kolonnen lenger, så vi kaster den\n",
    "top_5_bygg_gdf = top_5_bygg_gdf.drop(columns=['geometry_wkt'])\n",
    "\n",
    "# Oppretter et interaktivt kart der vi kan utforske bygningene\n",
    "map = keplergl.KeplerGl(height=600)\n",
    "\n",
    "# Legger til dataene på kartet så vi kan se hvor de største byggene befinner seg\n",
    "map.add_data(data=top_5_bygg_gdf, name=\"Top 5 største bygg i Agder\")\n",
    "map"
   ]
  },
  {
   "cell_type": "markdown",
   "id": "0f10c77b",
   "metadata": {},
   "source": [
    "# Finn mest “scenic route” (innenfor 50meter fra kystlinje / hav) Agder\n",
    "\n",
    "* Vi skal ut på sykkeltur og vil gjerne se hvilke småveier det er mulig å sykle eller gå\n",
    "* Henter ut kystlinje data fra PostgreSQL base i Norkarts datavarehus\n",
    "* Henter ut veg segment data fr Overturemaps\n",
    "* Gjennomfører en analyse mellom disse (50 m avstand) for å finne veier med utsikt, langs sjøkanten. \n"
   ]
  },
  {
   "cell_type": "code",
   "execution_count": 6,
   "id": "1156d234",
   "metadata": {},
   "outputs": [],
   "source": [
    "# Hent noen hemmeligheter fra .env-filen\n",
    "db_host = os.environ.get('DB_HOST')\n",
    "db_port = os.environ.get('DB_PORT')\n",
    "db_name = os.environ.get('DB_NAME')\n",
    "db_user = os.environ.get('DB_USER')\n",
    "db_pass = os.environ.get('DB_PASS')\n",
    "\n",
    "\n",
    "\n",
    "# Leser data fra postgresql\n",
    "# Avlaster henting av data til Postgresql, DuckDB skriver resultatet til parquet-fil\n",
    "query_hent_vannkanter_agder = f\"\"\"\n",
    "ATTACH 'dbname={db_name} user={db_user} password={db_pass} host={db_host} port={db_port}' \n",
    "  AS postgres_db (TYPE postgres, READ_ONLY);\n",
    "\n",
    "COPY (\n",
    "  SELECT * FROM postgres_query('postgres_db', '\n",
    "  \n",
    "SELECT \n",
    "    dvh_id as id,\n",
    "    ST_AsBinary(ST_Force2D(ST_Transform(geom, 4326))) as geometry\n",
    "FROM fkb50.v_kommunene_104_kystkontur\n",
    "WHERE ST_Intersects(\n",
    "    geom, \n",
    "    ST_Transform(ST_MakeEnvelope({min_x}, {min_y}, {max_x}, {max_y}, 4326), 3857)\n",
    ")\n",
    "  ')\n",
    "\n",
    ") TO 'agder_vannkanter.parquet' (FORMAT parquet, COMPRESSION zstd, ROW_GROUP_SIZE 10_000);\n",
    "\n",
    "DETACH postgres_db;\n",
    "\"\"\"\n",
    "\n",
    "# koble fra basen om nødvendig\n",
    "try:\n",
    "    con.execute(\"DETACH postgres_db;\")\n",
    "except:\n",
    "    pass\n",
    "\n",
    "#con.execute(query_hent_vannkanter_agder)\n"
   ]
  },
  {
   "cell_type": "code",
   "execution_count": 7,
   "id": "ca6f5f1b",
   "metadata": {},
   "outputs": [],
   "source": [
    "# Hent veier i Agder\n",
    "\n",
    "\n",
    "# Henter ut veg segmeneter i Agder med klasser som er relevante for sykling og gangveier\n",
    "query_hent_vei = f\"\"\"\n",
    "COPY(\n",
    "SELECT\n",
    "    id,\n",
    "    names.primary as name,\n",
    "    class,\n",
    "    geometry\n",
    "FROM read_parquet('s3://overturemaps-us-west-2/release/2025-04-23.0/theme=transportation/type=segment/*',\n",
    "hive_partitioning=true)\n",
    "WHERE bbox.xmin BETWEEN {min_x} AND {max_x}\n",
    "  AND bbox.ymin BETWEEN {min_y} AND {max_y}\n",
    "  AND class IN ('path', 'cycleway', 'footway', 'residential', 'living_street', 'track', 'service')\n",
    ") TO 'agder_sykkelveier.parquet' (FORMAT parquet, COMPRESSION zstd, ROW_GROUP_SIZE 10_000);\n",
    "\"\"\"\n",
    "\n",
    "#con.execute(query_hent_vei)\n"
   ]
  },
  {
   "cell_type": "code",
   "execution_count": 8,
   "id": "734691bc",
   "metadata": {},
   "outputs": [],
   "source": [
    "# Bruker sykkelvei data og vannkanter for å finne veier som er 50m eller nærmere vannkanten\n",
    "# Konverterer geometrien til EPSG:25832 for å ha riktige avstandsberegninger i meter\n",
    "# Bruker indekser for å gjøre spørringen raskere\n",
    "# ST_DWithin er en funksjon som sjekker om to geometriske objekter er innenfor en viss avstand fra hverandre\n",
    "\n",
    "query_nydelige_kystsykkelveier= \"\"\"CREATE TABLE IF NOT EXISTS sykkelveier_transformed AS \n",
    "SELECT \n",
    "    id, name, class, geometry,\n",
    "    ST_Transform(geometry, 'EPSG:4326', 'EPSG:25832') AS geometry_25832\n",
    "FROM read_parquet('agder_sykkelveier.parquet');\n",
    "\n",
    "CREATE TABLE IF NOT EXISTS vannkanter_transformed AS \n",
    "SELECT \n",
    "    *,\n",
    "    ST_Transform(ST_GeomFromWKB(geometry), 'EPSG:4326', 'EPSG:25832') AS geometry_25832\n",
    "FROM read_parquet('agder_vannkanter.parquet');\n",
    "\n",
    "CREATE INDEX IF NOT EXISTS idx_sykkelveier_geom ON sykkelveier_transformed USING RTREE (geometry_25832);\n",
    "CREATE INDEX IF NOT EXISTS idx_vannkanter_geom ON vannkanter_transformed USING RTREE (geometry_25832);\n",
    "\n",
    "COPY(\n",
    "    SELECT DISTINCT\n",
    "        v.id as vei_id,\n",
    "        v.name as vei_name,\n",
    "        v.class as vei_class,\n",
    "        ROUND(ST_Length(v.geometry_25832), 2) as length_m,\n",
    "        v.geometry\n",
    "    FROM \n",
    "        sykkelveier_transformed v,\n",
    "        vannkanter_transformed k\n",
    "    WHERE \n",
    "        ST_DWithin(v.geometry_25832, k.geometry_25832, 50)\n",
    "    ORDER BY \n",
    "        length_m DESC\n",
    ") TO 'agder_nydelige_sykkelveier.parquet' (FORMAT parquet, COMPRESSION zstd, ROW_GROUP_SIZE 10_000);\n",
    "\"\"\"\n",
    "\n",
    "#con.execute(query_nydelige_kystsykkelveier)"
   ]
  },
  {
   "cell_type": "code",
   "execution_count": 9,
   "id": "695909db",
   "metadata": {},
   "outputs": [
    {
     "name": "stdout",
     "output_type": "stream",
     "text": [
      "User Guide: https://docs.kepler.gl/docs/keplergl-jupyter\n"
     ]
    },
    {
     "data": {
      "application/vnd.jupyter.widget-view+json": {
       "model_id": "f002f5d7ccf14c019011fa59746c86e4",
       "version_major": 2,
       "version_minor": 0
      },
      "text/plain": [
       "KeplerGl(data={'Nydelige veier og stier man kan sykle langs sjøen i Agder': {'index': [0, 1, 2, 3, 4, 5, 6, 7,…"
      ]
     },
     "execution_count": 9,
     "metadata": {},
     "output_type": "execute_result"
    }
   ],
   "source": [
    "# visualisering av sykkelveier fra analysen med keplergl\n",
    "\n",
    "\n",
    "map = keplergl.KeplerGl(height=1000)\n",
    "\n",
    "\n",
    "sykkelveier_df = con.sql(\"\"\"\n",
    "    SELECT * EXCLUDE (geometry),\n",
    "    ST_AsText(geometry) as geometry_wkt\n",
    "    FROM read_parquet('agder_nydelige_sykkelveier.parquet')\n",
    "\"\"\").df()\n",
    "\n",
    "sykkelveier_df = gpd.GeoDataFrame(sykkelveier_df, geometry=gpd.GeoSeries.from_wkt(sykkelveier_df['geometry_wkt'].tolist()),crs=\"EPSG:4326\")\n",
    "sykkelveier_df = sykkelveier_df.drop(columns=['geometry_wkt'])\n",
    "\n",
    "map.add_data(data=sykkelveier_df, name=\"Nydelige veier og stier man kan sykle langs sjøen i Agder\")\n",
    "\n",
    "map\n"
   ]
  },
  {
   "cell_type": "markdown",
   "id": "806a95aa",
   "metadata": {},
   "source": [
    "# Finn eiendommen med mest myr i Agder\n",
    "\n",
    "* Bekymret for bomkjøp\n",
    "* Opptatt av å bevare natur?"
   ]
  },
  {
   "cell_type": "code",
   "execution_count": 10,
   "id": "3decc3de",
   "metadata": {},
   "outputs": [],
   "source": [
    "\n",
    "# Hent teiger og myr i Agder fra to forskjellige databaser i Norkarts Datavareshus\n",
    "db_host2 = os.environ.get('DB_HOST2')\n",
    "db_port2 = os.environ.get('DB_PORT2')\n",
    "db_name2 = os.environ.get('DB_NAME2')\n",
    "db_user2 = os.environ.get('DB_USER2')\n",
    "db_pass2 = os.environ.get('DB_PASS2')\n",
    "\n",
    "\n",
    "query_hent_teig_agder = f\"\"\"\n",
    "ATTACH 'dbname={db_name2} user={db_user2} password={db_pass2} host={db_host2} port={db_port2}' \n",
    "  AS postgres_db (TYPE postgres, READ_ONLY);\n",
    "\n",
    "COPY (\n",
    "  SELECT * FROM postgres_query('postgres_db', '\n",
    "  \n",
    "SELECT \n",
    "    dvh_id as id,\n",
    "    ST_AsBinary(ST_Force2D(ST_Transform(geom, 4326))) as geometry\n",
    "FROM nmk.v_kommunene_91_teig\n",
    "WHERE ST_Intersects(\n",
    "    geom, \n",
    "    ST_Transform(ST_MakeEnvelope({min_x}, {min_y}, {max_x}, {max_y}, 4326), 3857)\n",
    ")\n",
    "  ')\n",
    "\n",
    ") TO 'agder_eiendommer.parquet' (FORMAT parquet, COMPRESSION zstd, ROW_GROUP_SIZE 50_000);\n",
    "\n",
    "DETACH postgres_db;\n",
    "\"\"\"\n",
    "\n",
    "query_hent_myr_agder = f\"\"\"\n",
    "ATTACH 'dbname={db_name} user={db_user} password={db_pass} host={db_host} port={db_port}' \n",
    "  AS postgres_db (TYPE postgres, READ_ONLY);\n",
    "\n",
    "COPY (\n",
    "  SELECT * FROM postgres_query('postgres_db', '\n",
    "  \n",
    "SELECT \n",
    "    dvh_id as id,\n",
    "    ST_AsBinary(ST_Force2D(ST_Transform(geom, 4326))) as geometry\n",
    "FROM fkb50.v_kommunene_104_arealressursflate\n",
    "WHERE arealtype = 60::VARCHAR\n",
    "  AND ST_Intersects(\n",
    "    geom, \n",
    "    ST_Transform(ST_MakeEnvelope({min_x}, {min_y}, {max_x}, {max_y}, 4326), 3857)\n",
    ")\n",
    "  ')\n",
    "\n",
    ") TO 'agder_myr.parquet' (FORMAT parquet, COMPRESSION zstd, ROW_GROUP_SIZE 50_000);\n",
    "\n",
    "DETACH postgres_db;\n",
    "\"\"\"\n",
    "\n",
    "# koble fra basen om nødvendig\n",
    "try:\n",
    "    con.execute(\"DETACH postgres_db;\")\n",
    "except:\n",
    "    pass\n",
    "\n",
    "#con.execute(query_hent_teig_agder)\n",
    "#con.execute(query_hent_myr_agder)"
   ]
  },
  {
   "cell_type": "code",
   "execution_count": 11,
   "id": "9b26c0cd",
   "metadata": {},
   "outputs": [],
   "source": [
    "# overlap mellom eiendommer og myr\n",
    "query_analyse_myr_eiendommer = f\"\"\"\n",
    "DROP TABLE IF EXISTS teig_transformed; DROP TABLE IF EXISTS myr_transformed;\n",
    "CREATE TABLE teig_transformed AS\n",
    "SELECT \n",
    "    id as teig_id,\n",
    "    ST_GeomFromWKB(geometry) AS geometry,\n",
    "    -- Transform to a projected coordinate system for accurate area measurements\n",
    "    ST_Transform(ST_GeomFromWKB(geometry), 'EPSG:4326', 'EPSG:25832') AS geometry_25832\n",
    "FROM read_parquet('agder_eiendommer.parquet');\n",
    "\n",
    "CREATE TABLE myr_transformed AS\n",
    "SELECT \n",
    "    id as myr_id,\n",
    "    ST_GeomFromWKB(geometry) AS geometry,\n",
    "    -- Transform to the same coordinate system as teig\n",
    "    ST_Transform(ST_GeomFromWKB(geometry), 'EPSG:4326', 'EPSG:25832') AS geometry_25832\n",
    "FROM read_parquet('agder_myr.parquet');\n",
    "\n",
    "-- Indekser for hastighet!\n",
    "CREATE INDEX idx_teig_geom ON teig_transformed USING RTREE (geometry_25832);\n",
    "CREATE INDEX idx_myr_geom ON myr_transformed USING RTREE (geometry_25832);\n",
    "\n",
    "COPY(\n",
    "    SELECT \n",
    "        t.teig_id,\n",
    "        COUNT(m.myr_id) AS num_myr_overlaps,\n",
    "        ROUND(SUM(ST_Area(ST_Intersection(t.geometry_25832, m.geometry_25832))), 2) AS total_myr_area_m2,\n",
    "        -- BEregn areal av eiendommene i m2\n",
    "        ROUND(SUM(ST_Area(ST_Intersection(t.geometry_25832, m.geometry_25832))) / \n",
    "              MIN(ST_Area(t.geometry_25832)) * 100, 2) AS myr_percentage,\n",
    "        -- hent ut geometrien til eiendommene for å tegne dem i kartet\n",
    "        ANY_VALUE(t.geometry) AS property_geometry\n",
    "    FROM \n",
    "        teig_transformed t\n",
    "    JOIN \n",
    "        myr_transformed m\n",
    "    ON \n",
    "        ST_Intersects(t.geometry_25832, m.geometry_25832)\n",
    "    GROUP BY \n",
    "        t.teig_id\n",
    "    ORDER BY \n",
    "        total_myr_area_m2 DESC\n",
    "    LIMIT 10\n",
    ") TO 'agder_eiendommer_med_mest_myr.parquet' (FORMAT parquet, COMPRESSION zstd, ROW_GROUP_SIZE 10_000);\n",
    "\"\"\"\n",
    "\n",
    "#con.execute(query_analyse_myr_eiendommer)"
   ]
  },
  {
   "cell_type": "code",
   "execution_count": 12,
   "id": "21474934",
   "metadata": {},
   "outputs": [
    {
     "name": "stdout",
     "output_type": "stream",
     "text": [
      "┌──────────────────────────────────────┬──────────────────┬───────────────────┬────────────────┐\n",
      "│               teig_id                │ num_myr_overlaps │ total_myr_area_m2 │ myr_percentage │\n",
      "│                 uuid                 │      int64       │      double       │     double     │\n",
      "├──────────────────────────────────────┼──────────────────┼───────────────────┼────────────────┤\n",
      "│ f9642a1f-d448-48f8-b2c1-d65dd92f59ff │              525 │       22653530.87 │           7.89 │\n",
      "│ f59ebc37-80d1-4e84-a2f4-ae152b25be27 │              331 │       14737388.64 │          16.47 │\n",
      "│ c2e51e4f-064d-48aa-8b57-aae8710135bb │              592 │       13955835.53 │           7.17 │\n",
      "│ 3fd91622-3d4f-4d2f-9768-0dcf141776ff │               55 │       12055805.65 │          16.24 │\n",
      "│ 84e756f8-6066-4b23-81e5-0ee660fb2be7 │              243 │       10877595.01 │          13.24 │\n",
      "│ 17557ecd-67bd-40cc-87a8-efdfbb9c71fc │              134 │       10291446.24 │          10.78 │\n",
      "│ 70c9df1c-abd2-4053-a3a7-1bf7639bb06e │              197 │       10022440.96 │           4.62 │\n",
      "│ 03fbae83-f1db-4876-9f61-c487de6e24a5 │              290 │        9913226.98 │           5.39 │\n",
      "│ 8dd70f55-cca2-4a98-9005-29de94d20ec5 │              221 │         9250751.2 │           5.96 │\n",
      "│ 5e6901aa-b60b-4976-8aa7-88f2f7162f52 │              197 │        8750821.27 │           6.35 │\n",
      "├──────────────────────────────────────┴──────────────────┴───────────────────┴────────────────┤\n",
      "│ 10 rows                                                                            4 columns │\n",
      "└──────────────────────────────────────────────────────────────────────────────────────────────┘\n",
      "\n",
      "User Guide: https://docs.kepler.gl/docs/keplergl-jupyter\n"
     ]
    },
    {
     "data": {
      "application/vnd.jupyter.widget-view+json": {
       "model_id": "134626eedba24dcebb89f760679ff1dd",
       "version_major": 2,
       "version_minor": 0
      },
      "text/plain": [
       "KeplerGl(data={'Eiendommer med mest myr i Agder': {'index': [0, 1, 2, 3, 4, 5, 6, 7, 8, 9], 'columns': ['teig_…"
      ]
     },
     "execution_count": 12,
     "metadata": {},
     "output_type": "execute_result"
    }
   ],
   "source": [
    "\n",
    "# Eiendommer med mest myr i Agder\n",
    "con.sql(\"\"\"\n",
    "    SELECT \n",
    "        teig_id, \n",
    "        num_myr_overlaps, \n",
    "        total_myr_area_m2, \n",
    "        myr_percentage\n",
    "    FROM read_parquet('agder_eiendommer_med_mest_myr.parquet')\n",
    "    ORDER BY total_myr_area_m2 DESC\n",
    "\"\"\").show()\n",
    "\n",
    "\n",
    "# Visualize in KeplerGL\n",
    "map_myr = keplergl.KeplerGl(height=1000)\n",
    "\n",
    "# Prepare data for KeplerGL using GeoPandas\n",
    "myr_eiendommer_df = con.sql(\"\"\"\n",
    "    SELECT \n",
    "        teig_id, \n",
    "        num_myr_overlaps, \n",
    "        total_myr_area_m2, \n",
    "        myr_percentage,\n",
    "        ST_AsText(property_geometry) AS geometry_wkt\n",
    "    FROM read_parquet('agder_eiendommer_med_mest_myr.parquet')\n",
    "    ORDER BY total_myr_area_m2 DESC\n",
    "\"\"\").df()\n",
    "\n",
    "myr_eiendommer_gdf = gpd.GeoDataFrame(\n",
    "    myr_eiendommer_df, \n",
    "    geometry=gpd.GeoSeries.from_wkt(myr_eiendommer_df['geometry_wkt'].tolist()),\n",
    "    crs=\"EPSG:4326\"\n",
    ")\n",
    "myr_eiendommer_gdf = myr_eiendommer_gdf.drop(columns=['geometry_wkt'])\n",
    "\n",
    "# Add data to the map\n",
    "map_myr.add_data(data=myr_eiendommer_gdf, name=\"Eiendommer med mest myr i Agder\")\n",
    "\n",
    "# Display the map\n",
    "map_myr"
   ]
  },
  {
   "cell_type": "markdown",
   "id": "3941d1be",
   "metadata": {},
   "source": [
    "# Alle puber i Agder og hvilke er nærmest en kirke?\n",
    "\n",
    "* på sørlandet, hvilke puber er nærmest Guds hus?"
   ]
  },
  {
   "cell_type": "code",
   "execution_count": 13,
   "id": "34a1152a",
   "metadata": {},
   "outputs": [
    {
     "data": {
      "application/vnd.jupyter.widget-view+json": {
       "model_id": "81b466d79e6d40c18d114d4516b19ad6",
       "version_major": 2,
       "version_minor": 0
      },
      "text/plain": [
       "FloatProgress(value=0.0, layout=Layout(width='auto'), style=ProgressStyle(bar_color='black'))"
      ]
     },
     "metadata": {},
     "output_type": "display_data"
    },
    {
     "data": {
      "text/plain": [
       "<duckdb.duckdb.DuckDBPyConnection at 0x1b448f27fb0>"
      ]
     },
     "execution_count": 13,
     "metadata": {},
     "output_type": "execute_result"
    }
   ],
   "source": [
    "# hvordan vet man riktig category? https://github.com/OvertureMaps/schema/blob/main/docs/schema/concepts/by-theme/places/overture_categories.csv\n",
    "\n",
    "query_hent_puber = f\"\"\"\n",
    "COPY(\n",
    "  WITH places AS (\n",
    "    SELECT\n",
    "      id,\n",
    "      names.primary AS name_primary,\n",
    "      categories.primary AS category_primary,\n",
    "      categories,\n",
    "      confidence,\n",
    "      websites,\n",
    "      phones,\n",
    "      brand.names.primary AS brand_name,\n",
    "      geometry,\n",
    "      ST_AsText(geometry) AS geometry_wkt,\n",
    "      bbox\n",
    "    FROM read_parquet('s3://overturemaps-us-west-2/release/2025-04-23.0/theme=places/type=place/*',\n",
    "      hive_partitioning=true)\n",
    "    WHERE bbox.xmin BETWEEN {min_x} AND {max_x}\n",
    "      AND bbox.ymin BETWEEN {min_y} AND {max_y}\n",
    "      AND categories.primary IN ('religious_organization', 'church_cathedral', 'evangelical_church', 'jehovahs_witness_kingdom_hall', 'pentecostal_church', 'church', 'place_of_worship', 'bar', 'pub', 'beer_hall', 'brewery', 'biergarten')\n",
    "  ),\n",
    "  pubs AS (\n",
    "    SELECT * EXCLUDE(geometry), ST_Transform(geometry, 'EPSG:4236', 'EPSG:25833') AS geometry FROM places\n",
    "    WHERE category_primary IN ('bar', 'pub', 'beer_hall', 'brewery', 'biergarten')\n",
    "  ),\n",
    "  churches AS (\n",
    "    SELECT * EXCLUDE(geometry), ST_Transform(geometry, 'EPSG:4236', 'EPSG:25833') AS geometry FROM places\n",
    "    WHERE category_primary IN ('religious_organization', 'church_cathedral', 'evangelical_church', 'jehovahs_witness_kingdom_hall', 'pentecostal_church', 'church', 'place_of_worship')\n",
    "  )\n",
    "  SELECT\n",
    "    pub.id,\n",
    "    pub.name_primary AS pub_name,\n",
    "    pub.categories,\n",
    "    pub.confidence,\n",
    "    pub.websites,\n",
    "    pub.phones,\n",
    "    pub.brand_name,\n",
    "    pub.geometry_wkt,\n",
    "    pub.geometry,\n",
    "    MIN(ST_Distance(pub.geometry, church.geometry)) AS distance_to_closest_church_meters,\n",
    "    COUNT(church.id) AS nearby_church_count\n",
    "  FROM pubs pub\n",
    "  LEFT JOIN churches church\n",
    "    ON ST_DWithin(pub.geometry, church.geometry, 1000) -- 1 km radius\n",
    "  GROUP BY pub.id, pub.name_primary, pub.categories, pub.confidence, pub.websites, pub.phones, pub.brand_name, pub.geometry, pub.geometry_wkt\n",
    "  ORDER BY pub.confidence DESC\n",
    ") TO 'agder_puber.parquet' (FORMAT parquet, COMPRESSION zstd, ROW_GROUP_SIZE 10_000)\n",
    "\"\"\"\n",
    "\n",
    "con.execute(query_hent_puber)"
   ]
  },
  {
   "cell_type": "code",
   "execution_count": 14,
   "id": "706ca2e0",
   "metadata": {},
   "outputs": [
    {
     "name": "stdout",
     "output_type": "stream",
     "text": [
      "┌──────────────────────────────────┬───────────────────────────┬──────────────────────────────────────────────────────────────────────────────────┬────────────────────┬────────────────────────────────────────────────────────┬───────────────┬────────────┬──────────────────────────────┬──────────────────────────────────────────────┬───────────────────────────────────┬─────────────────────┐\n",
      "│                id                │         pub_name          │                                    categories                                    │     confidence     │                        websites                        │    phones     │ brand_name │         geometry_wkt         │                   geometry                   │ distance_to_closest_church_meters │ nearby_church_count │\n",
      "│             varchar              │          varchar          │                  struct(\"primary\" varchar, alternate varchar[])                  │       double       │                       varchar[]                        │   varchar[]   │  varchar   │           varchar            │                   geometry                   │              double               │        int64        │\n",
      "├──────────────────────────────────┼───────────────────────────┼──────────────────────────────────────────────────────────────────────────────────┼────────────────────┼────────────────────────────────────────────────────────┼───────────────┼────────────┼──────────────────────────────┼──────────────────────────────────────────────┼───────────────────────────────────┼─────────────────────┤\n",
      "│ 08f099eac6025d6903ab4539a9a1876d │ Castelle Bar & Restaurant │ {'primary': bar, 'alternate': [restaurant, dance_club]}                          │ 0.9961633011413521 │ [http://www.castelle.no/]                              │ [+4740033388] │ NULL       │ POINT (8.7683572 58.4601388) │ POINT (5788615.481189236 1329953.342462813)  │                 373.1640653862517 │                   8 │\n",
      "│ 08f099e833c62ca003bc9c845a5d7ef8 │ Kristiansand Camping      │ {'primary': bar, 'alternate': [professional_services, pub]}                      │ 0.9961633011413521 │ [http://campingen.no/]                                 │ NULL          │ NULL       │ POINT (7.9894326 58.1467855) │ POINT (5758050.94823904 1207067.5590107804)  │                 429.1241225455224 │                   8 │\n",
      "│ 08f099e833cd59b40380f7f0a26a704a │ Brygghuset                │ {'primary': brewery, 'alternate': [bar, beer_bar]}                               │ 0.9949795573576617 │ [https://booking.gastroplanner.no/Brygghuset/t]        │ [+4741726000] │ NULL       │ POINT (7.9941041 58.1444891) │ POINT (5757617.545601664 1207720.5786865372) │                  220.372823797971 │                  15 │\n",
      "│ 08f099e833ceed210364ae1046d8200a │ Montana Grill             │ {'primary': pub, 'alternate': [bar_and_grill_restaurant, restaurant]}            │ 0.9949795573576617 │ [https://www.mat-uteliv.no/montana-grill-kvadraturen/] │ [+4794783200] │ NULL       │ POINT (7.9928744 58.1456364) │ POINT (5757812.461283701 1207559.280748704)  │                200.58122689839075 │                  11 │\n",
      "│ 08f0999d68c46b640318e6514f0c6136 │ Gamle Norge Pub           │ {'primary': pub, 'alternate': [bar, beer_bar]}                                   │ 0.9949795573576617 │ [http://www.gamlenorge.com/]                           │ [+4745614523] │ NULL       │ POINT (9.6498334 59.6698516) │ POINT (5948992.492814324 1490984.1889304782) │                181.09185747779222 │                   7 │\n",
      "│ 08f099c3496e485b0394d39fb5c6bb83 │ Telemark Kildevann        │ {'primary': brewery, 'alternate': [topic_concert_venue, tire_dealer_and_repair]} │ 0.9858259499901555 │ [http://www.tkv.no]                                    │ [+4735067060] │ NULL       │ POINT (8.0818255 59.2048511) │ POINT (5914993.586743059 1242305.798055374)  │                              NULL │                   0 │\n",
      "│ 08f09911495424210351dbca61be567b │ Bondeheimen Kulturpub     │ {'primary': pub, 'alternate': [bar, arts_and_entertainment]}                     │ 0.9833187006145742 │ NULL                                                   │ [+4747293602] │ NULL       │ POINT (6.8034662 58.0945658) │ POINT (5771769.812671079 1028608.5445289633) │                241.46475500878023 │                   3 │\n",
      "│ 08f099eac68db6c503e3fb4c6ba97345 │ Streetfood Arendal        │ {'primary': bar, 'alternate': [restaurant, music_venue]}                         │ 0.9833187006145742 │ [http://www.streetfoodarendal.no/]                     │ [+4798624564] │ NULL       │ POINT (8.7652724 58.4610946) │ POINT (5788824.751006125 1329512.5510850325) │                 298.1602803558702 │                   7 │\n",
      "│ 08f099eac611889e03a3fecbd8e0cf27 │ Lille Andevinge           │ {'primary': pub, 'alternate': [bar, restaurant]}                                 │ 0.9833187006145742 │ [http://www.lilleandevinge.no]                         │ [+4740404253] │ NULL       │ POINT (8.767582 58.4589428)  │ POINT (5788454.349207993 1329811.527104733)  │                 221.8881396077193 │                   8 │\n",
      "│ 08f0998181c85c7103fce62d7de7a12e │ Ruffen Bar                │ {'primary': bar, 'alternate': [restaurant, event_planning]}                      │ 0.9833187006145742 │ [https://ruffenbar.no/]                                │ [+4798433631] │ NULL       │ POINT (9.4114936 58.8675597) │ POINT (5834670.530694155 1435510.3378013927) │                 259.0781119978764 │                  10 │\n",
      "├──────────────────────────────────┴───────────────────────────┴──────────────────────────────────────────────────────────────────────────────────┴────────────────────┴────────────────────────────────────────────────────────┴───────────────┴────────────┴──────────────────────────────┴──────────────────────────────────────────────┴───────────────────────────────────┴─────────────────────┤\n",
      "│ 10 rows                                                                                                                                                                                                                                                                                                                                                                                 11 columns │\n",
      "└────────────────────────────────────────────────────────────────────────────────────────────────────────────────────────────────────────────────────────────────────────────────────────────────────────────────────────────────────────────────────────────────────────────────────────────────────────────────────────────────────────────────────────────────────────────────────────────────────┘\n",
      "\n",
      "┌──────────────┐\n",
      "│ antall_puber │\n",
      "│    int64     │\n",
      "├──────────────┤\n",
      "│          226 │\n",
      "└──────────────┘\n",
      "\n",
      "┌─────────────────┬────────────────────┬───────────────────────────────────┬──────────────────────────────┐\n",
      "│    pub_name     │     confidence     │ distance_to_closest_church_meters │         geometry_wkt         │\n",
      "│     varchar     │       double       │              double               │           varchar            │\n",
      "├─────────────────┼────────────────────┼───────────────────────────────────┼──────────────────────────────┤\n",
      "│ Onkel Oskar Bar │ 0.9781719885115729 │                 34.53635530160298 │ POINT (9.4137027 58.8689278) │\n",
      "│ Jensemann Pub   │ 0.7106958762886598 │                 42.06123337112434 │ POINT (9.413239 58.868488)   │\n",
      "│ PA17            │ 0.9781719885115729 │                 44.88006323474772 │ POINT (9.4128612 58.8680609) │\n",
      "│ Bakgaarden      │ 0.9781719885115729 │                 46.53030272518054 │ POINT (9.6101787 59.2086478) │\n",
      "│ Hestens Bøn     │ 0.9781719885115729 │                 54.32768009784191 │ POINT (6.6595162 58.2973067) │\n",
      "└─────────────────┴────────────────────┴───────────────────────────────────┴──────────────────────────────┘\n",
      "\n",
      "User Guide: https://docs.kepler.gl/docs/keplergl-jupyter\n"
     ]
    },
    {
     "data": {
      "application/vnd.jupyter.widget-view+json": {
       "model_id": "e2e65f0170d44b6db23b3e158d05dee5",
       "version_major": 2,
       "version_minor": 0
      },
      "text/plain": [
       "KeplerGl(data={'Puber i nærheten av kirker i Agder': {'index': [0, 1, 2, 3, 4, 5, 6, 7, 8, 9, 10, 11, 12, 13, …"
      ]
     },
     "execution_count": 14,
     "metadata": {},
     "output_type": "execute_result"
    }
   ],
   "source": [
    "# Vis resultat fra puber i Agder\n",
    "\n",
    "con.sql(\"SELECT * FROM read_parquet('agder_puber.parquet') LIMIT 10\").show()\n",
    "con.sql(\"SELECT count(*) as antall_puber FROM read_parquet('agder_puber.parquet')\").show()\n",
    "con.sql(\"SELECT pub_name, confidence, distance_to_closest_church_meters, geometry_wkt FROM read_parquet('agder_puber.parquet') WHERE distance_to_closest_church_meters IS NOT NULL AND confidence > 0.7 ORDER BY distance_to_closest_church_meters ASC LIMIT 5\").show()\n",
    "\n",
    "\n",
    "\n",
    "\n",
    "# Prepare data for KeplerGL using GeoPandas\n",
    "puber_df = con.sql(\"\"\"\n",
    "    SELECT \n",
    "        id, \n",
    "        pub_name, \n",
    "        categories, \n",
    "        confidence, \n",
    "        websites, \n",
    "        phones, \n",
    "        brand_name,\n",
    "        ST_AsText(ST_Transform(geometry, 'EPSG:25833', 'EPSG:4236')) AS geometry_wkt,\n",
    "        distance_to_closest_church_meters,\n",
    "        nearby_church_count\n",
    "    FROM read_parquet('agder_puber.parquet')\n",
    "    WHERE distance_to_closest_church_meters IS NOT NULL\n",
    "        AND confidence > 0.7\n",
    "\"\"\").df()\n",
    "\n",
    "\n",
    "\n",
    "puber_df = gpd.GeoDataFrame(\n",
    "    puber_df, \n",
    "    geometry=gpd.GeoSeries.from_wkt(puber_df['geometry_wkt'].tolist()),\n",
    "    crs=\"EPSG:4326\"\n",
    ")\n",
    "\n",
    "puber_df = puber_df.drop(columns=['geometry_wkt'])\n",
    "# Convert the distance column to float explicitly\n",
    "#puber_df['distance_to_closest_church_meters'] = puber_df['distance_to_closest_church_meters']*1.0\n",
    "\n",
    "\n",
    "# Kart med puber og kirker i Agder\n",
    "map_puber = keplergl.KeplerGl(height=1000)\n",
    "\n",
    "\n",
    "# Add data to the map  \n",
    "map_puber.add_data(data=puber_df, name=\"Puber i nærheten av kirker i Agder\")\n",
    "\n",
    "map_puber"
   ]
  }
 ],
 "metadata": {
  "kernelspec": {
   "display_name": ".venv",
   "language": "python",
   "name": "python3"
  },
  "language_info": {
   "codemirror_mode": {
    "name": "ipython",
    "version": 3
   },
   "file_extension": ".py",
   "mimetype": "text/x-python",
   "name": "python",
   "nbconvert_exporter": "python",
   "pygments_lexer": "ipython3",
   "version": "3.11.9"
  }
 },
 "nbformat": 4,
 "nbformat_minor": 5
}
