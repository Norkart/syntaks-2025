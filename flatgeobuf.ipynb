{
 "cells": [
  {
   "cell_type": "markdown",
   "id": "a83da690",
   "metadata": {},
   "source": [
    "## Make FlatGeoBuf files"
   ]
  },
  {
   "cell_type": "markdown",
   "id": "bd43a433",
   "metadata": {},
   "source": [
    "### Using DuckDB for remote and local files"
   ]
  },
  {
   "cell_type": "code",
   "execution_count": 1,
   "id": "171448f4",
   "metadata": {},
   "outputs": [
    {
     "ename": "ModuleNotFoundError",
     "evalue": "No module named 'duckdb'",
     "output_type": "error",
     "traceback": [
      "\u001b[31m---------------------------------------------------------------------------\u001b[39m",
      "\u001b[31mModuleNotFoundError\u001b[39m                       Traceback (most recent call last)",
      "\u001b[36mCell\u001b[39m\u001b[36m \u001b[39m\u001b[32mIn[1]\u001b[39m\u001b[32m, line 1\u001b[39m\n\u001b[32m----> \u001b[39m\u001b[32m1\u001b[39m \u001b[38;5;28;01mimport\u001b[39;00m\u001b[38;5;250m \u001b[39m\u001b[34;01mduckdb\u001b[39;00m\n\u001b[32m      3\u001b[39m \u001b[38;5;66;03m# Connect to DuckDB\u001b[39;00m\n\u001b[32m      4\u001b[39m con = duckdb.connect()\n",
      "\u001b[31mModuleNotFoundError\u001b[39m: No module named 'duckdb'"
     ]
    }
   ],
   "source": [
    "import duckdb\n",
    "\n",
    "# Connect to DuckDB\n",
    "con = duckdb.connect()\n",
    "\n",
    "# Run the query\n",
    "con.execute(\"\"\"\n",
    "COPY(\n",
    "    SELECT\n",
    "        *\n",
    "    FROM read_parquet('s3://overturemaps-us-west-2/release/2024-08-20.0/theme=places/type=place/*', filename=true, hive_partitioning=1)\n",
    "    LIMIT 1000\n",
    ") TO 'places.fgb';\n",
    "\"\"\")"
   ]
  },
  {
   "cell_type": "markdown",
   "id": "41e980f9",
   "metadata": {},
   "source": [
    "### Using GeoPandas for local files (in memory)"
   ]
  },
  {
   "cell_type": "code",
   "execution_count": null,
   "id": "ec2f5ea9",
   "metadata": {},
   "outputs": [],
   "source": [
    "import geopandas as gpd\n",
    "\n",
    "# Read a shapefile\n",
    "gdf = gpd.read_file(\"input.shp\")\n",
    "\n",
    "# Save as FlatGeobuf\n",
    "gdf.to_file(\"output.fgb\", driver=\"FlatGeobuf\")\n"
   ]
  },
  {
   "cell_type": "markdown",
   "id": "dd217e74",
   "metadata": {},
   "source": [
    "### Using `ogr2ogr` cli for local files\n",
    "\n",
    "```bash\n",
    "# Convert GeoJSON to FlatGeobuf\n",
    "ogr2ogr -f FlatGeobuf places.fgb places.geojson\n",
    "\n",
    "# Convert Shapefile to FlatGeobuf\n",
    "ogr2ogr -f FlatGeobuf output.fgb input.shp\n",
    "\n",
    "```"
   ]
  }
 ],
 "metadata": {
  "kernelspec": {
   "display_name": "Python 3",
   "language": "python",
   "name": "python3"
  },
  "language_info": {
   "codemirror_mode": {
    "name": "ipython",
    "version": 3
   },
   "file_extension": ".py",
   "mimetype": "text/x-python",
   "name": "python",
   "nbconvert_exporter": "python",
   "pygments_lexer": "ipython3",
   "version": "3.11.9"
  }
 },
 "nbformat": 4,
 "nbformat_minor": 5
}
