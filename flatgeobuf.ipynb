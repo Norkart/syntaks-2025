{
 "cells": [
  {
   "cell_type": "markdown",
   "id": "a83da690",
   "metadata": {},
   "source": [
    "## Make FlatGeoBuf files"
   ]
  },
  {
   "cell_type": "markdown",
   "id": "bd43a433",
   "metadata": {},
   "source": [
    "### Using DuckDB for remote and local files"
   ]
  },
  {
   "cell_type": "code",
   "execution_count": 2,
   "id": "171448f4",
   "metadata": {},
   "outputs": [
    {
     "data": {
      "application/vnd.jupyter.widget-view+json": {
       "model_id": "bd1e4fe8fc174ab69dec03b42037b3bd",
       "version_major": 2,
       "version_minor": 0
      },
      "text/plain": [
       "FloatProgress(value=0.0, layout=Layout(width='auto'), style=ProgressStyle(bar_color='black'))"
      ]
     },
     "metadata": {},
     "output_type": "display_data"
    },
    {
     "data": {
      "text/plain": [
       "<duckdb.duckdb.DuckDBPyConnection at 0x126fafe5170>"
      ]
     },
     "execution_count": 2,
     "metadata": {},
     "output_type": "execute_result"
    }
   ],
   "source": [
    "import duckdb\n",
    "\n",
    "# Connect to DuckDB\n",
    "con = duckdb.connect()\n",
    "\n",
    "# Run the query\n",
    "con.execute(\"\"\"\n",
    "COPY(\n",
    "    SELECT\n",
    "        *\n",
    "    FROM read_parquet('s3://overturemaps-us-west-2/release/2024-08-20.0/theme=places/type=place/*', filename=true, hive_partitioning=1)\n",
    "    LIMIT 1000\n",
    ") TO 'places.fgb';\n",
    "\"\"\")"
   ]
  },
  {
   "cell_type": "markdown",
   "id": "41e980f9",
   "metadata": {},
   "source": [
    "### Using GeoPandas for local files (in memory)"
   ]
  },
  {
   "cell_type": "code",
   "execution_count": null,
   "id": "ec2f5ea9",
   "metadata": {},
   "outputs": [],
   "source": [
    "import geopandas as gpd\n",
    "\n",
    "# Read a shapefile\n",
    "gdf = gpd.read_file(\"input.shp\")\n",
    "\n",
    "# Save as FlatGeobuf\n",
    "gdf.to_file(\"output.fgb\", driver=\"FlatGeobuf\")\n"
   ]
  },
  {
   "cell_type": "markdown",
   "id": "dd217e74",
   "metadata": {},
   "source": [
    "### Using `ogr2ogr` cli for local files\n",
    "\n",
    "```bash\n",
    "# Convert GeoJSON to FlatGeobuf\n",
    "ogr2ogr -f FlatGeobuf places.fgb places.geojson\n",
    "\n",
    "# Convert Shapefile to FlatGeobuf\n",
    "ogr2ogr -f FlatGeobuf output.fgb input.shp\n",
    "\n",
    "```"
   ]
  }
 ],
 "metadata": {
  "kernelspec": {
   "display_name": "geo_env",
   "language": "python",
   "name": "python3"
  },
  "language_info": {
   "codemirror_mode": {
    "name": "ipython",
    "version": 3
   },
   "file_extension": ".py",
   "mimetype": "text/x-python",
   "name": "python",
   "nbconvert_exporter": "python",
   "pygments_lexer": "ipython3",
   "version": "3.13.0"
  }
 },
 "nbformat": 4,
 "nbformat_minor": 5
}
