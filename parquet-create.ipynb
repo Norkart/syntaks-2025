{
 "cells": [
  {
   "cell_type": "markdown",
   "id": "43c81e2c",
   "metadata": {},
   "source": [
    "## Create GeoParquet files"
   ]
  },
  {
   "cell_type": "code",
   "execution_count": 2,
   "id": "de280c95",
   "metadata": {},
   "outputs": [
    {
     "data": {
      "application/vnd.jupyter.widget-view+json": {
       "model_id": "13ef44bdfbc5404ebcb140486994b685",
       "version_major": 2,
       "version_minor": 0
      },
      "text/plain": [
       "FloatProgress(value=0.0, layout=Layout(width='auto'), style=ProgressStyle(bar_color='black'))"
      ]
     },
     "metadata": {},
     "output_type": "display_data"
    },
    {
     "data": {
      "text/plain": [
       "<duckdb.duckdb.DuckDBPyConnection at 0x211697d9730>"
      ]
     },
     "execution_count": 2,
     "metadata": {},
     "output_type": "execute_result"
    }
   ],
   "source": [
    "import duckdb\n",
    "\n",
    "# Connect to DuckDB\n",
    "con = duckdb.connect(database=':memory:')\n",
    "\n",
    "# Load the necessary extensions\n",
    "con.execute(\"INSTALL spatial;\")\n",
    "con.execute(\"LOAD spatial;\")\n",
    "\n",
    "con.execute(\"INSTALL httpfs;\")\n",
    "con.execute(\"LOAD httpfs;\")"
   ]
  },
  {
   "cell_type": "markdown",
   "id": "1c816cd2",
   "metadata": {},
   "source": [
    "### Downloading data from large GeoParquets to a flatgeobuf"
   ]
  },
  {
   "cell_type": "code",
   "execution_count": 15,
   "id": "8f60deb0",
   "metadata": {},
   "outputs": [
    {
     "data": {
      "application/vnd.jupyter.widget-view+json": {
       "model_id": "418b9ab8b4584881953d2f0fc398d6de",
       "version_major": 2,
       "version_minor": 0
      },
      "text/plain": [
       "FloatProgress(value=0.0, layout=Layout(width='auto'), style=ProgressStyle(bar_color='black'))"
      ]
     },
     "metadata": {},
     "output_type": "display_data"
    },
    {
     "data": {
      "text/plain": [
       "<duckdb.duckdb.DuckDBPyConnection at 0x211697d9730>"
      ]
     },
     "execution_count": 15,
     "metadata": {},
     "output_type": "execute_result"
    }
   ],
   "source": [
    "\n",
    "# Set the AWS S3 region\n",
    "con.execute(\"SET s3_region='us-west-2';\")\n",
    "\n",
    "# categories.primary schema: https://docs.overturemaps.org/schema/concepts/by-theme/places/\n",
    "\n",
    "query = \"\"\"\n",
    "COPY(                                       -- COPY <query> TO <output> saves the results to disk.\n",
    "    SELECT\n",
    "       id,\n",
    "       names.primary as name,\n",
    "       confidence AS confidence,\n",
    "       CAST(socials AS JSON) as socials,    -- Ensure each attribute can be serialized to JSON\n",
    "       geometry                             -- DuckDB understands this to be a geometry type\n",
    "    FROM read_parquet('s3://overturemaps-us-west-2/release/2025-02-19.0/theme=places/type=place/*', filename=true, hive_partitioning=1)\n",
    "    WHERE categories.primary = 'pizza_restaurant' -- brewery \n",
    "    AND bbox.xmin BETWEEN 8.0 AND 9.5\n",
    "    AND bbox.ymin BETWEEN 58.0 AND 59.0\n",
    "\n",
    ") TO 'agder_pizza.fgb' WITH (FORMAT GDAL, DRIVER 'flatgeobuf', SRS 'EPSG:4326');\n",
    "\"\"\"\n",
    "\n",
    "con.execute(query)"
   ]
  },
  {
   "cell_type": "markdown",
   "id": "c58d9f77",
   "metadata": {},
   "source": [
    "### Converting the flatgeobuf to a geoparquet using geopandas"
   ]
  },
  {
   "cell_type": "code",
   "execution_count": 16,
   "id": "fc77260a",
   "metadata": {},
   "outputs": [],
   "source": [
    "import geopandas as gpd\n",
    "fileoriginal = r'./agder_pizza.fgb'\n",
    "gdf = gpd.read_file(fileoriginal)\n",
    "\n",
    "gdf.set_crs('EPSG:4326', inplace=True)\n",
    "gdf.to_parquet(f'./agder_pizza.parquet', compression='snappy',geometry_encoding='WKB',write_covering_bbox=True)\n"
   ]
  },
  {
   "cell_type": "markdown",
   "id": "6a4dbe12",
   "metadata": {},
   "source": [
    "### Visualizing the resulting geoparquet (geopandas dataframe)"
   ]
  },
  {
   "cell_type": "code",
   "execution_count": 17,
   "id": "8a2de247",
   "metadata": {},
   "outputs": [
    {
     "data": {
      "text/html": [
       "<div style=\"width:100%;\"><div style=\"position:relative;width:100%;height:0;padding-bottom:60%;\"><span style=\"color:#565656\">Make this Notebook Trusted to load map: File -> Trust Notebook</span><iframe srcdoc=\"&lt;!DOCTYPE html&gt;\n",
       "&lt;html&gt;\n",
       "&lt;head&gt;\n",
       "    \n",
       "    &lt;meta http-equiv=&quot;content-type&quot; content=&quot;text/html; charset=UTF-8&quot; /&gt;\n",
       "    \n",
       "        &lt;script&gt;\n",
       "            L_NO_TOUCH = false;\n",
       "            L_DISABLE_3D = false;\n",
       "        &lt;/script&gt;\n",
       "    \n",
       "    &lt;style&gt;html, body {width: 100%;height: 100%;margin: 0;padding: 0;}&lt;/style&gt;\n",
       "    &lt;style&gt;#map {position:absolute;top:0;bottom:0;right:0;left:0;}&lt;/style&gt;\n",
       "    &lt;script src=&quot;https://cdn.jsdelivr.net/npm/leaflet@1.9.3/dist/leaflet.js&quot;&gt;&lt;/script&gt;\n",
       "    &lt;script src=&quot;https://code.jquery.com/jquery-3.7.1.min.js&quot;&gt;&lt;/script&gt;\n",
       "    &lt;script src=&quot;https://cdn.jsdelivr.net/npm/bootstrap@5.2.2/dist/js/bootstrap.bundle.min.js&quot;&gt;&lt;/script&gt;\n",
       "    &lt;script src=&quot;https://cdnjs.cloudflare.com/ajax/libs/Leaflet.awesome-markers/2.0.2/leaflet.awesome-markers.js&quot;&gt;&lt;/script&gt;\n",
       "    &lt;link rel=&quot;stylesheet&quot; href=&quot;https://cdn.jsdelivr.net/npm/leaflet@1.9.3/dist/leaflet.css&quot;/&gt;\n",
       "    &lt;link rel=&quot;stylesheet&quot; href=&quot;https://cdn.jsdelivr.net/npm/bootstrap@5.2.2/dist/css/bootstrap.min.css&quot;/&gt;\n",
       "    &lt;link rel=&quot;stylesheet&quot; href=&quot;https://netdna.bootstrapcdn.com/bootstrap/3.0.0/css/bootstrap-glyphicons.css&quot;/&gt;\n",
       "    &lt;link rel=&quot;stylesheet&quot; href=&quot;https://cdn.jsdelivr.net/npm/@fortawesome/fontawesome-free@6.2.0/css/all.min.css&quot;/&gt;\n",
       "    &lt;link rel=&quot;stylesheet&quot; href=&quot;https://cdnjs.cloudflare.com/ajax/libs/Leaflet.awesome-markers/2.0.2/leaflet.awesome-markers.css&quot;/&gt;\n",
       "    &lt;link rel=&quot;stylesheet&quot; href=&quot;https://cdn.jsdelivr.net/gh/python-visualization/folium/folium/templates/leaflet.awesome.rotate.min.css&quot;/&gt;\n",
       "    \n",
       "            &lt;meta name=&quot;viewport&quot; content=&quot;width=device-width,\n",
       "                initial-scale=1.0, maximum-scale=1.0, user-scalable=no&quot; /&gt;\n",
       "            &lt;style&gt;\n",
       "                #map_adf4949cfaef34e086895031df547560 {\n",
       "                    position: relative;\n",
       "                    width: 100.0%;\n",
       "                    height: 100.0%;\n",
       "                    left: 0.0%;\n",
       "                    top: 0.0%;\n",
       "                }\n",
       "                .leaflet-container { font-size: 1rem; }\n",
       "            &lt;/style&gt;\n",
       "        \n",
       "    \n",
       "                    &lt;style&gt;\n",
       "                        .foliumtooltip {\n",
       "                            \n",
       "                        }\n",
       "                       .foliumtooltip table{\n",
       "                            margin: auto;\n",
       "                        }\n",
       "                        .foliumtooltip tr{\n",
       "                            text-align: left;\n",
       "                        }\n",
       "                        .foliumtooltip th{\n",
       "                            padding: 2px; padding-right: 8px;\n",
       "                        }\n",
       "                    &lt;/style&gt;\n",
       "            \n",
       "&lt;/head&gt;\n",
       "&lt;body&gt;\n",
       "    \n",
       "    \n",
       "            &lt;div class=&quot;folium-map&quot; id=&quot;map_adf4949cfaef34e086895031df547560&quot; &gt;&lt;/div&gt;\n",
       "        \n",
       "&lt;/body&gt;\n",
       "&lt;script&gt;\n",
       "    \n",
       "    \n",
       "            var map_adf4949cfaef34e086895031df547560 = L.map(\n",
       "                &quot;map_adf4949cfaef34e086895031df547560&quot;,\n",
       "                {\n",
       "                    center: [58.50314335, 8.6843913],\n",
       "                    crs: L.CRS.EPSG3857,\n",
       "                    zoom: 10,\n",
       "                    zoomControl: true,\n",
       "                    preferCanvas: false,\n",
       "                }\n",
       "            );\n",
       "            L.control.scale().addTo(map_adf4949cfaef34e086895031df547560);\n",
       "\n",
       "            \n",
       "\n",
       "        \n",
       "    \n",
       "            var tile_layer_0dc45b510b0872c9fded0648996b6967 = L.tileLayer(\n",
       "                &quot;https://tile.openstreetmap.org/{z}/{x}/{y}.png&quot;,\n",
       "                {&quot;attribution&quot;: &quot;\\u0026copy; \\u003ca href=\\&quot;https://www.openstreetmap.org/copyright\\&quot;\\u003eOpenStreetMap\\u003c/a\\u003e contributors&quot;, &quot;detectRetina&quot;: false, &quot;maxNativeZoom&quot;: 19, &quot;maxZoom&quot;: 19, &quot;minZoom&quot;: 0, &quot;noWrap&quot;: false, &quot;opacity&quot;: 1, &quot;subdomains&quot;: &quot;abc&quot;, &quot;tms&quot;: false}\n",
       "            );\n",
       "        \n",
       "    \n",
       "            tile_layer_0dc45b510b0872c9fded0648996b6967.addTo(map_adf4949cfaef34e086895031df547560);\n",
       "        \n",
       "    \n",
       "            map_adf4949cfaef34e086895031df547560.fitBounds(\n",
       "                [[58.1331955, 8.0003845], [58.8730912, 9.3683981]],\n",
       "                {}\n",
       "            );\n",
       "        \n",
       "    \n",
       "        function geo_json_facd56665ad97570a49c527c8eb1ebef_styler(feature) {\n",
       "            switch(feature.id) {\n",
       "                default:\n",
       "                    return {&quot;fillOpacity&quot;: 0.5, &quot;weight&quot;: 2};\n",
       "            }\n",
       "        }\n",
       "        function geo_json_facd56665ad97570a49c527c8eb1ebef_highlighter(feature) {\n",
       "            switch(feature.id) {\n",
       "                default:\n",
       "                    return {&quot;fillOpacity&quot;: 0.75};\n",
       "            }\n",
       "        }\n",
       "        function geo_json_facd56665ad97570a49c527c8eb1ebef_pointToLayer(feature, latlng) {\n",
       "            var opts = {&quot;bubblingMouseEvents&quot;: true, &quot;color&quot;: &quot;#3388ff&quot;, &quot;dashArray&quot;: null, &quot;dashOffset&quot;: null, &quot;fill&quot;: true, &quot;fillColor&quot;: &quot;#3388ff&quot;, &quot;fillOpacity&quot;: 0.2, &quot;fillRule&quot;: &quot;evenodd&quot;, &quot;lineCap&quot;: &quot;round&quot;, &quot;lineJoin&quot;: &quot;round&quot;, &quot;opacity&quot;: 1.0, &quot;radius&quot;: 2, &quot;stroke&quot;: true, &quot;weight&quot;: 3};\n",
       "            \n",
       "            let style = geo_json_facd56665ad97570a49c527c8eb1ebef_styler(feature)\n",
       "            Object.assign(opts, style)\n",
       "            \n",
       "            return new L.CircleMarker(latlng, opts)\n",
       "        }\n",
       "\n",
       "        function geo_json_facd56665ad97570a49c527c8eb1ebef_onEachFeature(feature, layer) {\n",
       "            layer.on({\n",
       "                mouseout: function(e) {\n",
       "                    if(typeof e.target.setStyle === &quot;function&quot;){\n",
       "                            geo_json_facd56665ad97570a49c527c8eb1ebef.resetStyle(e.target);\n",
       "                    }\n",
       "                },\n",
       "                mouseover: function(e) {\n",
       "                    if(typeof e.target.setStyle === &quot;function&quot;){\n",
       "                        const highlightStyle = geo_json_facd56665ad97570a49c527c8eb1ebef_highlighter(e.target.feature)\n",
       "                        e.target.setStyle(highlightStyle);\n",
       "                    }\n",
       "                },\n",
       "            });\n",
       "        };\n",
       "        var geo_json_facd56665ad97570a49c527c8eb1ebef = L.geoJson(null, {\n",
       "                onEachFeature: geo_json_facd56665ad97570a49c527c8eb1ebef_onEachFeature,\n",
       "            \n",
       "                style: geo_json_facd56665ad97570a49c527c8eb1ebef_styler,\n",
       "                pointToLayer: geo_json_facd56665ad97570a49c527c8eb1ebef_pointToLayer,\n",
       "        });\n",
       "\n",
       "        function geo_json_facd56665ad97570a49c527c8eb1ebef_add (data) {\n",
       "            geo_json_facd56665ad97570a49c527c8eb1ebef\n",
       "                .addData(data);\n",
       "        }\n",
       "            geo_json_facd56665ad97570a49c527c8eb1ebef_add({&quot;bbox&quot;: [8.0003845, 58.1331955, 9.3683981, 58.8730912], &quot;features&quot;: [{&quot;bbox&quot;: [8.7311136, 58.4316121, 8.7311136, 58.4316121], &quot;geometry&quot;: {&quot;coordinates&quot;: [8.7311136, 58.4316121], &quot;type&quot;: &quot;Point&quot;}, &quot;id&quot;: &quot;0&quot;, &quot;properties&quot;: {&quot;confidence&quot;: 0.9445655559015883, &quot;id&quot;: &quot;08f099eaf2b0a5a90324fa0c06a00e4e&quot;, &quot;name&quot;: &quot;Pizzabakeren His&quot;, &quot;socials&quot;: &quot;[\\&quot;https://www.facebook.com/108353158887496\\&quot;]&quot;}, &quot;type&quot;: &quot;Feature&quot;}, {&quot;bbox&quot;: [8.7485631, 58.4550643, 8.7485631, 58.4550643], &quot;geometry&quot;: {&quot;coordinates&quot;: [8.7485631, 58.4550643], &quot;type&quot;: &quot;Point&quot;}, &quot;id&quot;: &quot;1&quot;, &quot;properties&quot;: {&quot;confidence&quot;: 0.9645127118644068, &quot;id&quot;: &quot;08f099eaf161d49403e4f43c7ad13b15&quot;, &quot;name&quot;: &quot;Casa Mia Take Away&quot;, &quot;socials&quot;: &quot;[\\&quot;https://www.facebook.com/128492670547661\\&quot;]&quot;}, &quot;type&quot;: &quot;Feature&quot;}, {&quot;bbox&quot;: [8.7662893, 58.4587148, 8.7662893, 58.4587148], &quot;geometry&quot;: {&quot;coordinates&quot;: [8.7662893, 58.4587148], &quot;type&quot;: &quot;Point&quot;}, &quot;id&quot;: &quot;2&quot;, &quot;properties&quot;: {&quot;confidence&quot;: 0.9837452982267598, &quot;id&quot;: &quot;08f099eac611526a031383a6b575f28a&quot;, &quot;name&quot;: &quot;Happy Time&quot;, &quot;socials&quot;: &quot;[\\&quot;https://www.facebook.com/314714822052005\\&quot;]&quot;}, &quot;type&quot;: &quot;Feature&quot;}, {&quot;bbox&quot;: [8.750275829360959, 58.458761450209096, 8.750275829360959, 58.458761450209096], &quot;geometry&quot;: {&quot;coordinates&quot;: [8.750275829360959, 58.458761450209096], &quot;type&quot;: &quot;Point&quot;}, &quot;id&quot;: &quot;3&quot;, &quot;properties&quot;: {&quot;confidence&quot;: 0.77, &quot;id&quot;: &quot;08f099eaf164db5d03cadb7debe0aa9e&quot;, &quot;name&quot;: &quot;Domino\\u0027s Pizza&quot;, &quot;socials&quot;: null}, &quot;type&quot;: &quot;Feature&quot;}, {&quot;bbox&quot;: [8.7498513, 58.4632418, 8.7498513, 58.4632418], &quot;geometry&quot;: {&quot;coordinates&quot;: [8.7498513, 58.4632418], &quot;type&quot;: &quot;Point&quot;}, &quot;id&quot;: &quot;4&quot;, &quot;properties&quot;: {&quot;confidence&quot;: 0.9837452982267598, &quot;id&quot;: &quot;08f099eac45b2c5d03e3dfbb2aa6b5ea&quot;, &quot;name&quot;: &quot;Pizzabakeren Myrene&quot;, &quot;socials&quot;: &quot;[\\&quot;https://www.facebook.com/1607545142840398\\&quot;]&quot;}, &quot;type&quot;: &quot;Feature&quot;}, {&quot;bbox&quot;: [8.7569071, 58.4796869, 8.7569071, 58.4796869], &quot;geometry&quot;: {&quot;coordinates&quot;: [8.7569071, 58.4796869], &quot;type&quot;: &quot;Point&quot;}, &quot;id&quot;: &quot;5&quot;, &quot;properties&quot;: {&quot;confidence&quot;: 0.9837452982267598, &quot;id&quot;: &quot;08f099eac43515a60392c43c4533cf9c&quot;, &quot;name&quot;: &quot;Miss pizza&quot;, &quot;socials&quot;: &quot;[\\&quot;https://www.facebook.com/302310856967821\\&quot;]&quot;}, &quot;type&quot;: &quot;Feature&quot;}, {&quot;bbox&quot;: [8.7452334, 58.4730876, 8.7452334, 58.4730876], &quot;geometry&quot;: {&quot;coordinates&quot;: [8.7452334, 58.4730876], &quot;type&quot;: &quot;Point&quot;}, &quot;id&quot;: &quot;6&quot;, &quot;properties&quot;: {&quot;confidence&quot;: 0.9645127118644068, &quot;id&quot;: &quot;08f099eac410e058032c017cd58840b4&quot;, &quot;name&quot;: &quot;Popeye Grill og Pizza&quot;, &quot;socials&quot;: &quot;[\\&quot;https://www.facebook.com/111203010394571\\&quot;]&quot;}, &quot;type&quot;: &quot;Feature&quot;}, {&quot;bbox&quot;: [8.7234283, 58.4777939, 8.7234283, 58.4777939], &quot;geometry&quot;: {&quot;coordinates&quot;: [8.7234283, 58.4777939], &quot;type&quot;: &quot;Point&quot;}, &quot;id&quot;: &quot;7&quot;, &quot;properties&quot;: {&quot;confidence&quot;: 0.9467515923566879, &quot;id&quot;: &quot;08f099eae22458d3038d6c85a1fa70c6&quot;, &quot;name&quot;: &quot;Indigo Bistro&quot;, &quot;socials&quot;: &quot;[\\&quot;https://www.facebook.com/108344021863321\\&quot;]&quot;}, &quot;type&quot;: &quot;Feature&quot;}, {&quot;bbox&quot;: [8.795994, 58.4700939, 8.795994, 58.4700939], &quot;geometry&quot;: {&quot;coordinates&quot;: [8.795994, 58.4700939], &quot;type&quot;: &quot;Point&quot;}, &quot;id&quot;: &quot;8&quot;, &quot;properties&quot;: {&quot;confidence&quot;: 0.9837452982267598, &quot;id&quot;: &quot;08f099eac04f3d33033805916eaba389&quot;, &quot;name&quot;: &quot;Pizzabakeren Kystveien&quot;, &quot;socials&quot;: &quot;[\\&quot;https://www.facebook.com/237814382943230\\&quot;]&quot;}, &quot;type&quot;: &quot;Feature&quot;}, {&quot;bbox&quot;: [9.12528, 58.645378, 9.12528, 58.645378], &quot;geometry&quot;: {&quot;coordinates&quot;: [9.12528, 58.645378], &quot;type&quot;: &quot;Point&quot;}, &quot;id&quot;: &quot;9&quot;, &quot;properties&quot;: {&quot;confidence&quot;: 0.2009132420091324, &quot;id&quot;: &quot;08f0998cae18331c03c3f0323c57800d&quot;, &quot;name&quot;: &quot;Kari Og Meg&quot;, &quot;socials&quot;: &quot;[\\&quot;https://www.facebook.com/247404605668978\\&quot;]&quot;}, &quot;type&quot;: &quot;Feature&quot;}, {&quot;bbox&quot;: [9.3683981, 58.8730912, 9.3683981, 58.8730912], &quot;geometry&quot;: {&quot;coordinates&quot;: [9.3683981, 58.8730912], &quot;type&quot;: &quot;Point&quot;}, &quot;id&quot;: &quot;10&quot;, &quot;properties&quot;: {&quot;confidence&quot;: 0.9837452982267598, &quot;id&quot;: &quot;08f09981858096db0347b9c70649437a&quot;, &quot;name&quot;: &quot;Pizzabakeren Krager\\u00f8&quot;, &quot;socials&quot;: &quot;[\\&quot;https://www.facebook.com/1067646836678564\\&quot;]&quot;}, &quot;type&quot;: &quot;Feature&quot;}, {&quot;bbox&quot;: [8.8641373, 58.7493738, 8.8641373, 58.7493738], &quot;geometry&quot;: {&quot;coordinates&quot;: [8.8641373, 58.7493738], &quot;type&quot;: &quot;Point&quot;}, &quot;id&quot;: &quot;11&quot;, &quot;properties&quot;: {&quot;confidence&quot;: 0.9544061302681992, &quot;id&quot;: &quot;08f0998d568e50de03f937f2773db4ca&quot;, &quot;name&quot;: &quot;Stuten Kafe&quot;, &quot;socials&quot;: &quot;[\\&quot;https://www.facebook.com/101376858175461\\&quot;]&quot;}, &quot;type&quot;: &quot;Feature&quot;}, {&quot;bbox&quot;: [8.876023, 58.8176551, 8.876023, 58.8176551], &quot;geometry&quot;: {&quot;coordinates&quot;: [8.876023, 58.8176551], &quot;type&quot;: &quot;Point&quot;}, &quot;id&quot;: &quot;12&quot;, &quot;properties&quot;: {&quot;confidence&quot;: 0.9837452982267598, &quot;id&quot;: &quot;08f0998d41c98249032fbd854011460c&quot;, &quot;name&quot;: &quot;Haukenes Operation&quot;, &quot;socials&quot;: &quot;[\\&quot;https://www.facebook.com/116248640293578\\&quot;]&quot;}, &quot;type&quot;: &quot;Feature&quot;}, {&quot;bbox&quot;: [8.9159855, 58.6272233, 8.9159855, 58.6272233], &quot;geometry&quot;: {&quot;coordinates&quot;: [8.9159855, 58.6272233], &quot;type&quot;: &quot;Point&quot;}, &quot;id&quot;: &quot;13&quot;, &quot;properties&quot;: {&quot;confidence&quot;: 0.9908651262761956, &quot;id&quot;: &quot;08f0998d8c9b691103e3c542eb0c397f&quot;, &quot;name&quot;: &quot;Pizzabakeren&quot;, &quot;socials&quot;: &quot;[\\&quot;https://www.facebook.com/127569997921710\\&quot;]&quot;}, &quot;type&quot;: &quot;Feature&quot;}, {&quot;bbox&quot;: [8.6304947, 58.5082971, 8.6304947, 58.5082971], &quot;geometry&quot;: {&quot;coordinates&quot;: [8.6304947, 58.5082971], &quot;type&quot;: &quot;Point&quot;}, &quot;id&quot;: &quot;14&quot;, &quot;properties&quot;: {&quot;confidence&quot;: 0.9837452982267598, &quot;id&quot;: &quot;08f099ea5698bc550332ef15e4b82005&quot;, &quot;name&quot;: &quot;Pizzabakeren&quot;, &quot;socials&quot;: &quot;[\\&quot;https://www.facebook.com/112381970429996\\&quot;]&quot;}, &quot;type&quot;: &quot;Feature&quot;}, {&quot;bbox&quot;: [8.6754839, 58.3821938, 8.6754839, 58.3821938], &quot;geometry&quot;: {&quot;coordinates&quot;: [8.6754839, 58.3821938], &quot;type&quot;: &quot;Point&quot;}, &quot;id&quot;: &quot;15&quot;, &quot;properties&quot;: {&quot;confidence&quot;: 0.9837452982267598, &quot;id&quot;: &quot;08f099eaaa4e391e035cd02e168b01b9&quot;, &quot;name&quot;: &quot;Pizzabakeren Fevik&quot;, &quot;socials&quot;: &quot;[\\&quot;https://www.facebook.com/1635791086639336\\&quot;]&quot;}, &quot;type&quot;: &quot;Feature&quot;}, {&quot;bbox&quot;: [8.5918327, 58.3427667, 8.5918327, 58.3427667], &quot;geometry&quot;: {&quot;coordinates&quot;: [8.5918327, 58.3427667], &quot;type&quot;: &quot;Point&quot;}, &quot;id&quot;: &quot;16&quot;, &quot;properties&quot;: {&quot;confidence&quot;: 0.9645127118644068, &quot;id&quot;: &quot;08f099eaa2c9db5a03d358cceb1915af&quot;, &quot;name&quot;: &quot;Hytta Pizzeria \\u0026 Cocktailbar&quot;, &quot;socials&quot;: &quot;[\\&quot;https://www.facebook.com/119646722765492\\&quot;]&quot;}, &quot;type&quot;: &quot;Feature&quot;}, {&quot;bbox&quot;: [8.59091, 58.3428554, 8.59091, 58.3428554], &quot;geometry&quot;: {&quot;coordinates&quot;: [8.59091, 58.3428554], &quot;type&quot;: &quot;Point&quot;}, &quot;id&quot;: &quot;17&quot;, &quot;properties&quot;: {&quot;confidence&quot;: 0.9645127118644068, &quot;id&quot;: &quot;08f099eaa2c81096036538f965a34a30&quot;, &quot;name&quot;: &quot;Royal Pizza and Kafe&quot;, &quot;socials&quot;: &quot;[\\&quot;https://www.facebook.com/102013464637663\\&quot;]&quot;}, &quot;type&quot;: &quot;Feature&quot;}, {&quot;bbox&quot;: [8.5811592, 58.3454722, 8.5811592, 58.3454722], &quot;geometry&quot;: {&quot;coordinates&quot;: [8.5811592, 58.3454722], &quot;type&quot;: &quot;Point&quot;}, &quot;id&quot;: &quot;18&quot;, &quot;properties&quot;: {&quot;confidence&quot;: 0.9837452982267598, &quot;id&quot;: &quot;08f099eaa66da8d00337905bf00b05b0&quot;, &quot;name&quot;: &quot;Pizzabakeren Grimstad&quot;, &quot;socials&quot;: &quot;[\\&quot;https://www.facebook.com/495189810539899\\&quot;]&quot;}, &quot;type&quot;: &quot;Feature&quot;}, {&quot;bbox&quot;: [8.3775813, 58.2501418, 8.3775813, 58.2501418], &quot;geometry&quot;: {&quot;coordinates&quot;: [8.3775813, 58.2501418], &quot;type&quot;: &quot;Point&quot;}, &quot;id&quot;: &quot;19&quot;, &quot;properties&quot;: {&quot;confidence&quot;: 0.9837452982267598, &quot;id&quot;: &quot;08f099e8c8758cf20339421badf00981&quot;, &quot;name&quot;: &quot;Happy Time&quot;, &quot;socials&quot;: &quot;[\\&quot;https://www.facebook.com/273382876336298\\&quot;]&quot;}, &quot;type&quot;: &quot;Feature&quot;}, {&quot;bbox&quot;: [8.3775182, 58.247834, 8.3775182, 58.247834], &quot;geometry&quot;: {&quot;coordinates&quot;: [8.3775182, 58.247834], &quot;type&quot;: &quot;Point&quot;}, &quot;id&quot;: &quot;20&quot;, &quot;properties&quot;: {&quot;confidence&quot;: 0.9645127118644068, &quot;id&quot;: &quot;08f099e8c8630b8e03e6bf643570729f&quot;, &quot;name&quot;: &quot;Pizzabakeren&quot;, &quot;socials&quot;: &quot;[\\&quot;https://www.facebook.com/1668597873358893\\&quot;]&quot;}, &quot;type&quot;: &quot;Feature&quot;}, {&quot;bbox&quot;: [8.1724685, 58.2670552, 8.1724685, 58.2670552], &quot;geometry&quot;: {&quot;coordinates&quot;: [8.1724685, 58.2670552], &quot;type&quot;: &quot;Point&quot;}, &quot;id&quot;: &quot;21&quot;, &quot;properties&quot;: {&quot;confidence&quot;: 0.9467515923566879, &quot;id&quot;: &quot;08f099e850ad1cdc030b3fdb947c0d20&quot;, &quot;name&quot;: &quot;Vera Pizza Spitaleri&quot;, &quot;socials&quot;: &quot;[\\&quot;https://www.facebook.com/109381705596084\\&quot;]&quot;}, &quot;type&quot;: &quot;Feature&quot;}, {&quot;bbox&quot;: [8.1257562, 58.1730563, 8.1257562, 58.1730563], &quot;geometry&quot;: {&quot;coordinates&quot;: [8.1257562, 58.1730563], &quot;type&quot;: &quot;Point&quot;}, &quot;id&quot;: &quot;22&quot;, &quot;properties&quot;: {&quot;confidence&quot;: 0.9837452982267598, &quot;id&quot;: &quot;08f099e818528b2d03117bb3e9695adf&quot;, &quot;name&quot;: &quot;Dolly Dimple\\u0027s&quot;, &quot;socials&quot;: &quot;[\\&quot;https://www.facebook.com/140587419329387\\&quot;]&quot;}, &quot;type&quot;: &quot;Feature&quot;}, {&quot;bbox&quot;: [8.129886, 58.1787558, 8.129886, 58.1787558], &quot;geometry&quot;: {&quot;coordinates&quot;: [8.129886, 58.1787558], &quot;type&quot;: &quot;Point&quot;}, &quot;id&quot;: &quot;23&quot;, &quot;properties&quot;: {&quot;confidence&quot;: 0.9877528662420382, &quot;id&quot;: &quot;08f099e8180e478c03a708a20ca747a7&quot;, &quot;name&quot;: &quot;Peppes Pizza&quot;, &quot;socials&quot;: &quot;[\\&quot;https://www.facebook.com/103880145729997\\&quot;]&quot;}, &quot;type&quot;: &quot;Feature&quot;}, {&quot;bbox&quot;: [8.1309393, 58.1781743, 8.1309393, 58.1781743], &quot;geometry&quot;: {&quot;coordinates&quot;: [8.1309393, 58.1781743], &quot;type&quot;: &quot;Point&quot;}, &quot;id&quot;: &quot;24&quot;, &quot;properties&quot;: {&quot;confidence&quot;: 0.9544061302681992, &quot;id&quot;: &quot;08f099e8180a979c0354c14321d057be&quot;, &quot;name&quot;: &quot;Billy Pizza&quot;, &quot;socials&quot;: &quot;[\\&quot;https://www.facebook.com/101809971330397\\&quot;]&quot;}, &quot;type&quot;: &quot;Feature&quot;}, {&quot;bbox&quot;: [8.0732937, 58.1331955, 8.0732937, 58.1331955], &quot;geometry&quot;: {&quot;coordinates&quot;: [8.0732937, 58.1331955], &quot;type&quot;: &quot;Point&quot;}, &quot;id&quot;: &quot;25&quot;, &quot;properties&quot;: {&quot;confidence&quot;: 0.9645127118644068, &quot;id&quot;: &quot;08f099e812b1bb4e0316a4e8ec445bfe&quot;, &quot;name&quot;: &quot;Pizza Show Dvergsnes&quot;, &quot;socials&quot;: &quot;[\\&quot;https://www.facebook.com/114216879933031\\&quot;]&quot;}, &quot;type&quot;: &quot;Feature&quot;}, {&quot;bbox&quot;: [8.0833254, 58.162449, 8.0833254, 58.162449], &quot;geometry&quot;: {&quot;coordinates&quot;: [8.0833254, 58.162449], &quot;type&quot;: &quot;Point&quot;}, &quot;id&quot;: &quot;26&quot;, &quot;properties&quot;: {&quot;confidence&quot;: 0.9544061302681992, &quot;id&quot;: &quot;08f099e811233ca0031fda4e850efce7&quot;, &quot;name&quot;: &quot;Pizzabakeren Rona&quot;, &quot;socials&quot;: &quot;[\\&quot;https://www.facebook.com/147286610968\\&quot;]&quot;}, &quot;type&quot;: &quot;Feature&quot;}, {&quot;bbox&quot;: [8.0410758, 58.1772212, 8.0410758, 58.1772212], &quot;geometry&quot;: {&quot;coordinates&quot;: [8.0410758, 58.1772212], &quot;type&quot;: &quot;Point&quot;}, &quot;id&quot;: &quot;27&quot;, &quot;properties&quot;: {&quot;confidence&quot;: 0.9837452982267598, &quot;id&quot;: &quot;08f099e802b2578103c7176e536f9020&quot;, &quot;name&quot;: &quot;Pizzabakeren&quot;, &quot;socials&quot;: &quot;[\\&quot;https://www.facebook.com/1629320950639957\\&quot;]&quot;}, &quot;type&quot;: &quot;Feature&quot;}, {&quot;bbox&quot;: [8.0003845, 58.1569, 8.0003845, 58.1569], &quot;geometry&quot;: {&quot;coordinates&quot;: [8.0003845, 58.1569], &quot;type&quot;: &quot;Point&quot;}, &quot;id&quot;: &quot;28&quot;, &quot;properties&quot;: {&quot;confidence&quot;: 0.9837452982267598, &quot;id&quot;: &quot;08f099e833ac075403038ed39984c7d6&quot;, &quot;name&quot;: &quot;Pizzabakeren&quot;, &quot;socials&quot;: &quot;[\\&quot;https://www.facebook.com/193749273978318\\&quot;]&quot;}, &quot;type&quot;: &quot;Feature&quot;}, {&quot;bbox&quot;: [8.0085352, 58.1523441, 8.0085352, 58.1523441], &quot;geometry&quot;: {&quot;coordinates&quot;: [8.0085352, 58.1523441], &quot;type&quot;: &quot;Point&quot;}, &quot;id&quot;: &quot;29&quot;, &quot;properties&quot;: {&quot;confidence&quot;: 0.9837452982267598, &quot;id&quot;: &quot;08f099e83376d1140373ae664a71fe08&quot;, &quot;name&quot;: &quot;Kebab House Kristiansand&quot;, &quot;socials&quot;: &quot;[\\&quot;https://www.facebook.com/1881525132137580\\&quot;]&quot;}, &quot;type&quot;: &quot;Feature&quot;}, {&quot;bbox&quot;: [8.0010503, 58.1472781, 8.0010503, 58.1472781], &quot;geometry&quot;: {&quot;coordinates&quot;: [8.0010503, 58.1472781], &quot;type&quot;: &quot;Point&quot;}, &quot;id&quot;: &quot;30&quot;, &quot;properties&quot;: {&quot;confidence&quot;: 0.9544061302681992, &quot;id&quot;: &quot;08f099e8330b2aeb0349ad2bf017b090&quot;, &quot;name&quot;: &quot;Start Grill&quot;, &quot;socials&quot;: &quot;[\\&quot;https://www.facebook.com/635430503762111\\&quot;]&quot;}, &quot;type&quot;: &quot;Feature&quot;}, {&quot;bbox&quot;: [8.0229388, 58.155618, 8.0229388, 58.155618], &quot;geometry&quot;: {&quot;coordinates&quot;: [8.0229388, 58.155618], &quot;type&quot;: &quot;Point&quot;}, &quot;id&quot;: &quot;31&quot;, &quot;properties&quot;: {&quot;confidence&quot;: 0.9908651262761956, &quot;id&quot;: &quot;08f099e81582b4a003188a26ed1d308f&quot;, &quot;name&quot;: &quot;La Pizza&quot;, &quot;socials&quot;: &quot;[\\&quot;https://www.facebook.com/167525097270705\\&quot;]&quot;}, &quot;type&quot;: &quot;Feature&quot;}, {&quot;bbox&quot;: [8.0271989, 58.1556045, 8.0271989, 58.1556045], &quot;geometry&quot;: {&quot;coordinates&quot;: [8.0271989, 58.1556045], &quot;type&quot;: &quot;Point&quot;}, &quot;id&quot;: &quot;32&quot;, &quot;properties&quot;: {&quot;confidence&quot;: 0.9445655559015883, &quot;id&quot;: &quot;08f099e8158b152603598b5fa426da7c&quot;, &quot;name&quot;: &quot;Pizza Show&quot;, &quot;socials&quot;: &quot;[\\&quot;https://www.facebook.com/108269497775882\\&quot;]&quot;}, &quot;type&quot;: &quot;Feature&quot;}, {&quot;bbox&quot;: [8.0011967, 58.1431612, 8.0011967, 58.1431612], &quot;geometry&quot;: {&quot;coordinates&quot;: [8.0011967, 58.1431612], &quot;type&quot;: &quot;Point&quot;}, &quot;id&quot;: &quot;33&quot;, &quot;properties&quot;: {&quot;confidence&quot;: 0.9467515923566879, &quot;id&quot;: &quot;08f099e833430ba9032e13d1e53f09fb&quot;, &quot;name&quot;: &quot;Byssa kiosk&quot;, &quot;socials&quot;: &quot;[\\&quot;https://www.facebook.com/108610018003110\\&quot;]&quot;}, &quot;type&quot;: &quot;Feature&quot;}], &quot;type&quot;: &quot;FeatureCollection&quot;});\n",
       "\n",
       "        \n",
       "    \n",
       "    geo_json_facd56665ad97570a49c527c8eb1ebef.bindTooltip(\n",
       "    function(layer){\n",
       "    let div = L.DomUtil.create(&#x27;div&#x27;);\n",
       "    \n",
       "    let handleObject = feature=&gt;typeof(feature)==&#x27;object&#x27; ? JSON.stringify(feature) : feature;\n",
       "    let fields = [&quot;id&quot;, &quot;name&quot;, &quot;confidence&quot;, &quot;socials&quot;];\n",
       "    let aliases = [&quot;id&quot;, &quot;name&quot;, &quot;confidence&quot;, &quot;socials&quot;];\n",
       "    let table = &#x27;&lt;table&gt;&#x27; +\n",
       "        String(\n",
       "        fields.map(\n",
       "        (v,i)=&gt;\n",
       "        `&lt;tr&gt;\n",
       "            &lt;th&gt;${aliases[i]}&lt;/th&gt;\n",
       "            \n",
       "            &lt;td&gt;${handleObject(layer.feature.properties[v])}&lt;/td&gt;\n",
       "        &lt;/tr&gt;`).join(&#x27;&#x27;))\n",
       "    +&#x27;&lt;/table&gt;&#x27;;\n",
       "    div.innerHTML=table;\n",
       "    \n",
       "    return div\n",
       "    }\n",
       "    ,{&quot;className&quot;: &quot;foliumtooltip&quot;, &quot;sticky&quot;: true});\n",
       "                     \n",
       "    \n",
       "            geo_json_facd56665ad97570a49c527c8eb1ebef.addTo(map_adf4949cfaef34e086895031df547560);\n",
       "        \n",
       "&lt;/script&gt;\n",
       "&lt;/html&gt;\" style=\"position:absolute;width:100%;height:100%;left:0;top:0;border:none !important;\" allowfullscreen webkitallowfullscreen mozallowfullscreen></iframe></div></div>"
      ],
      "text/plain": [
       "<folium.folium.Map at 0x21173156660>"
      ]
     },
     "execution_count": 17,
     "metadata": {},
     "output_type": "execute_result"
    }
   ],
   "source": [
    "gdf.explore()"
   ]
  }
 ],
 "metadata": {
  "kernelspec": {
   "display_name": "geo_env",
   "language": "python",
   "name": "python3"
  },
  "language_info": {
   "codemirror_mode": {
    "name": "ipython",
    "version": 3
   },
   "file_extension": ".py",
   "mimetype": "text/x-python",
   "name": "python",
   "nbconvert_exporter": "python",
   "pygments_lexer": "ipython3",
   "version": "3.13.0"
  }
 },
 "nbformat": 4,
 "nbformat_minor": 5
}
