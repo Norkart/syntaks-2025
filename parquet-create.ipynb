{
 "cells": [
  {
   "cell_type": "markdown",
   "id": "43c81e2c",
   "metadata": {},
   "source": [
    "## Create GeoParquet files"
   ]
  },
  {
   "cell_type": "code",
   "execution_count": 2,
   "id": "de280c95",
   "metadata": {},
   "outputs": [
    {
     "data": {
      "application/vnd.jupyter.widget-view+json": {
       "model_id": "13ef44bdfbc5404ebcb140486994b685",
       "version_major": 2,
       "version_minor": 0
      },
      "text/plain": [
       "FloatProgress(value=0.0, layout=Layout(width='auto'), style=ProgressStyle(bar_color='black'))"
      ]
     },
     "metadata": {},
     "output_type": "display_data"
    },
    {
     "data": {
      "text/plain": [
       "<duckdb.duckdb.DuckDBPyConnection at 0x211697d9730>"
      ]
     },
     "execution_count": 2,
     "metadata": {},
     "output_type": "execute_result"
    }
   ],
   "source": [
    "import duckdb\n",
    "\n",
    "# Connect to DuckDB\n",
    "con = duckdb.connect(database=':memory:')\n",
    "\n",
    "# Load the necessary extensions\n",
    "con.execute(\"INSTALL spatial;\")\n",
    "con.execute(\"LOAD spatial;\")\n",
    "\n",
    "con.execute(\"INSTALL httpfs;\")\n",
    "con.execute(\"LOAD httpfs;\")"
   ]
  },
  {
   "cell_type": "code",
   "execution_count": null,
   "id": "8f60deb0",
   "metadata": {},
   "outputs": [],
   "source": [
    "\n",
    "# Set the AWS S3 region\n",
    "con.execute(\"SET s3_region='us-west-2';\")\n",
    "\n",
    "# categories.primary schema: https://docs.overturemaps.org/schema/concepts/by-theme/places/\n",
    "\n",
    "query = \"\"\"\n",
    "COPY(                                       -- COPY <query> TO <output> saves the results to disk.\n",
    "    SELECT\n",
    "       id,\n",
    "       names.primary as name,\n",
    "       confidence AS confidence,\n",
    "       CAST(socials AS JSON) as socials,    -- Ensure each attribute can be serialized to JSON\n",
    "       geometry                             -- DuckDB understands this to be a geometry type\n",
    "    FROM read_parquet('s3://overturemaps-us-west-2/release/2025-02-19.0/theme=places/type=place/*', filename=true, hive_partitioning=1)\n",
    "    WHERE categories.primary = 'pizza_restaurant' -- brewery \n",
    "    AND bbox.xmin BETWEEN 8.0 AND 9.5\n",
    "    AND bbox.ymin BETWEEN 58.0 AND 59.0\n",
    "\n",
    ") TO 'agder_pizza.fgb' WITH (FORMAT GDAL, DRIVER 'flatgeobuf', SRS 'EPSG:4326');\n",
    "\"\"\"\n",
    "\n",
    "con.execute(query)"
   ]
  },
  {
   "cell_type": "code",
   "execution_count": 4,
   "id": "fc77260a",
   "metadata": {},
   "outputs": [],
   "source": [
    "import geopandas as gpd\n",
    "fileoriginal = r'./agder_pizza.fgb'\n",
    "gdf = gpd.read_file(fileoriginal)\n",
    "\n",
    "gdf.set_crs('EPSG:4326', inplace=True)\n",
    "gdf.to_parquet(f'./agder_pizza.parquet', compression='snappy',geometry_encoding='WKB',write_covering_bbox=True)\n"
   ]
  }
 ],
 "metadata": {
  "kernelspec": {
   "display_name": "geo_env",
   "language": "python",
   "name": "python3"
  },
  "language_info": {
   "codemirror_mode": {
    "name": "ipython",
    "version": 3
   },
   "file_extension": ".py",
   "mimetype": "text/x-python",
   "name": "python",
   "nbconvert_exporter": "python",
   "pygments_lexer": "ipython3",
   "version": "3.13.0"
  }
 },
 "nbformat": 4,
 "nbformat_minor": 5
}
